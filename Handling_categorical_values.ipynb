{
  "nbformat": 4,
  "nbformat_minor": 0,
  "metadata": {
    "colab": {
      "name": "Categorical_values.ipynb",
      "provenance": [],
      "collapsed_sections": []
    },
    "kernelspec": {
      "name": "python3",
      "display_name": "Python 3"
    },
    "language_info": {
      "name": "python"
    }
  },
  "cells": [
    {
      "cell_type": "markdown",
      "source": [
        "A**s usual importing all the important libraries**"
      ],
      "metadata": {
        "id": "ucHRcmxxpEP_"
      }
    },
    {
      "cell_type": "code",
      "execution_count": 32,
      "metadata": {
        "id": "1Sy_LOXuzJkO"
      },
      "outputs": [],
      "source": [
        "import pandas as pd\n",
        "from sklearn.ensemble import RandomForestRegressor\n",
        "from sklearn.model_selection import train_test_split\n",
        "from sklearn.metrics import mean_absolute_error\n",
        "from sklearn.preprocessing import OrdinalEncoder\n",
        "from sklearn.preprocessing import OneHotEncoder"
      ]
    },
    {
      "cell_type": "code",
      "source": [
        "#Reading data\n",
        "data = pd.read_csv('/content/melb_data.csv')"
      ],
      "metadata": {
        "id": "SrqxwF1Jzydl"
      },
      "execution_count": 33,
      "outputs": []
    },
    {
      "cell_type": "code",
      "source": [
        "#Defining feature vs label data\n",
        "X = data.drop(['Price'], axis =1)\n",
        "y = data.Price"
      ],
      "metadata": {
        "id": "C3P0f0A9-g7H"
      },
      "execution_count": 34,
      "outputs": []
    },
    {
      "cell_type": "code",
      "source": [
        "#Divide data into training and testing subsets\n",
        "X_train_full, X_test_full, y_train, y_test = train_test_split(X, y, test_size=0.8, train_size = 0.2, random_state = 1)"
      ],
      "metadata": {
        "id": "STJFGGVZ-ovC"
      },
      "execution_count": 35,
      "outputs": []
    },
    {
      "cell_type": "code",
      "source": [
        "#Drop the columns with missing value (Simple Approach)\n",
        "cols_missing = [col for col in X_train_full.columns if X_train_full[col].isnull().any()]\n",
        "X_train_full.drop(cols_missing, axis = 1, inplace = True)\n",
        "X_test_full.drop(cols_missing, axis = 1, inplace = True)"
      ],
      "metadata": {
        "id": "RFpTtcrv-8kB"
      },
      "execution_count": 36,
      "outputs": []
    },
    {
      "cell_type": "code",
      "source": [
        "#Cardinality means the number of unique values in a column\n",
        "#Select categorical columns with relatively low cardinality (convenient but arbitrary)\n",
        "categorical_cols = [cname for cname in X_train_full.columns if X_train_full[cname].dtype == 'object']\n",
        "categorical_cols"
      ],
      "metadata": {
        "colab": {
          "base_uri": "https://localhost:8080/"
        },
        "id": "h7-5zl1-_cQr",
        "outputId": "5375dba7-891d-4304-e070-c638fb95cdf0"
      },
      "execution_count": 37,
      "outputs": [
        {
          "output_type": "execute_result",
          "data": {
            "text/plain": [
              "['Suburb', 'Address', 'Type', 'Method', 'SellerG', 'Date', 'Regionname']"
            ]
          },
          "metadata": {},
          "execution_count": 37
        }
      ]
    },
    {
      "cell_type": "code",
      "source": [
        "type(categorical_cols)"
      ],
      "metadata": {
        "colab": {
          "base_uri": "https://localhost:8080/"
        },
        "id": "wBI0lenlV-pt",
        "outputId": "44c7dda2-d5d6-4c98-f66e-eca7b3a88941"
      },
      "execution_count": 38,
      "outputs": [
        {
          "output_type": "execute_result",
          "data": {
            "text/plain": [
              "list"
            ]
          },
          "metadata": {},
          "execution_count": 38
        }
      ]
    },
    {
      "cell_type": "code",
      "source": [
        "for c in categorical_cols:\n",
        "  t = X_train_full[c].value_counts()\n",
        "  print(c)\n",
        "  print(t)"
      ],
      "metadata": {
        "colab": {
          "base_uri": "https://localhost:8080/"
        },
        "id": "gsbOPvY2CVjz",
        "outputId": "2baa535b-1b83-4d79-b036-60e8d65f9516"
      },
      "execution_count": 39,
      "outputs": [
        {
          "output_type": "stream",
          "name": "stdout",
          "text": [
            "Suburb\n",
            "Reservoir          70\n",
            "Richmond           62\n",
            "Brunswick          47\n",
            "Bentleigh East     47\n",
            "Hawthorn           46\n",
            "                   ..\n",
            "Blackburn North     1\n",
            "Templestowe         1\n",
            "Ardeer              1\n",
            "Chelsea Heights     1\n",
            "Carrum              1\n",
            "Name: Suburb, Length: 262, dtype: int64\n",
            "Address\n",
            "13 Robinson St          2\n",
            "1/12 Hatfield Ct        2\n",
            "19 Charles St           2\n",
            "16 Coronation St        2\n",
            "118 Westgarth St        2\n",
            "                       ..\n",
            "14 Columbia St          1\n",
            "1 Monteith St           1\n",
            "104/13 Wellington St    1\n",
            "24 Trevannion St        1\n",
            "11 Condor St            1\n",
            "Name: Address, Length: 2708, dtype: int64\n",
            "Type\n",
            "h    1887\n",
            "u     607\n",
            "t     222\n",
            "Name: Type, dtype: int64\n",
            "Method\n",
            "S     1829\n",
            "PI     327\n",
            "SP     311\n",
            "VB     227\n",
            "SA      22\n",
            "Name: Method, dtype: int64\n",
            "SellerG\n",
            "Nelson           315\n",
            "Jellis           258\n",
            "hockingstuart    238\n",
            "Barry            212\n",
            "Ray              139\n",
            "                ... \n",
            "Obrien             1\n",
            "Dixon              1\n",
            "buyMyplace         1\n",
            "Ham                1\n",
            "Del                1\n",
            "Name: SellerG, Length: 151, dtype: int64\n",
            "Date\n",
            "27/05/2017    94\n",
            "12/08/2017    86\n",
            "3/06/2017     85\n",
            "17/06/2017    71\n",
            "4/03/2017     71\n",
            "29/07/2017    70\n",
            "24/06/2017    69\n",
            "25/02/2017    64\n",
            "8/07/2017     63\n",
            "12/11/2016    63\n",
            "18/03/2017    62\n",
            "22/07/2017    62\n",
            "19/11/2016    61\n",
            "27/11/2016    60\n",
            "15/10/2016    60\n",
            "20/05/2017    59\n",
            "18/06/2016    59\n",
            "22/08/2016    58\n",
            "16/09/2017    57\n",
            "10/12/2016    56\n",
            "15/07/2017    56\n",
            "3/12/2016     55\n",
            "13/05/2017    55\n",
            "7/05/2016     55\n",
            "8/04/2017     51\n",
            "26/08/2017    49\n",
            "24/09/2016    49\n",
            "10/09/2016    48\n",
            "23/09/2017    47\n",
            "19/08/2017    46\n",
            "8/10/2016     45\n",
            "1/07/2017     44\n",
            "29/04/2017    44\n",
            "17/09/2016    44\n",
            "28/05/2016    44\n",
            "27/06/2016    43\n",
            "4/06/2016     43\n",
            "7/11/2016     43\n",
            "22/05/2016    42\n",
            "9/09/2017     41\n",
            "16/04/2016    38\n",
            "3/09/2016     37\n",
            "14/05/2016    36\n",
            "28/08/2016    36\n",
            "3/09/2017     36\n",
            "30/07/2016    33\n",
            "6/08/2016     33\n",
            "16/07/2016    31\n",
            "6/05/2017     29\n",
            "22/04/2017    26\n",
            "13/08/2016    25\n",
            "26/07/2016    22\n",
            "23/04/2016    22\n",
            "11/02/2017    19\n",
            "12/06/2016    11\n",
            "11/03/2017     5\n",
            "4/02/2016      3\n",
            "Name: Date, dtype: int64\n",
            "Regionname\n",
            "Southern Metropolitan         963\n",
            "Northern Metropolitan         787\n",
            "Western Metropolitan          574\n",
            "Eastern Metropolitan          288\n",
            "South-Eastern Metropolitan     82\n",
            "Western Victoria                8\n",
            "Northern Victoria               7\n",
            "Eastern Victoria                7\n",
            "Name: Regionname, dtype: int64\n"
          ]
        }
      ]
    },
    {
      "cell_type": "code",
      "source": [
        "low_card_cat_cols = [cname for cname in X_train_full.columns if X_train_full[cname].dtype == 'object' and\n",
        "                     X_train_full[cname].nunique()<10]\n",
        "\n",
        "low_card_cat_cols"
      ],
      "metadata": {
        "colab": {
          "base_uri": "https://localhost:8080/"
        },
        "id": "4nPAmQJGD5mo",
        "outputId": "9411e9b6-b415-41da-882a-c3d9b55c3df6"
      },
      "execution_count": 40,
      "outputs": [
        {
          "output_type": "execute_result",
          "data": {
            "text/plain": [
              "['Type', 'Method', 'Regionname']"
            ]
          },
          "metadata": {},
          "execution_count": 40
        }
      ]
    },
    {
      "cell_type": "code",
      "source": [
        "#Select numerical columns\n",
        "num_cols = [cname for cname in X_train_full.columns if X_train_full[cname].dtype in ['int64', 'float64']]\n",
        "num_cols"
      ],
      "metadata": {
        "id": "AbfWOM3hGhqz",
        "colab": {
          "base_uri": "https://localhost:8080/"
        },
        "outputId": "43719dd7-d2cb-4e3e-a9ca-59ba87b936d9"
      },
      "execution_count": 42,
      "outputs": [
        {
          "output_type": "execute_result",
          "data": {
            "text/plain": [
              "['Rooms',\n",
              " 'Distance',\n",
              " 'Postcode',\n",
              " 'Bedroom2',\n",
              " 'Bathroom',\n",
              " 'Landsize',\n",
              " 'Lattitude',\n",
              " 'Longtitude',\n",
              " 'Propertycount']"
            ]
          },
          "metadata": {},
          "execution_count": 42
        }
      ]
    },
    {
      "cell_type": "code",
      "source": [
        "# Keep selected columns\n",
        "final_cols = num_cols + low_card_cat_cols\n",
        "final_cols"
      ],
      "metadata": {
        "colab": {
          "base_uri": "https://localhost:8080/"
        },
        "id": "CIBffN0wTnLm",
        "outputId": "bb0b81d2-4eac-4c3f-a4d4-36e7f967805d"
      },
      "execution_count": 43,
      "outputs": [
        {
          "output_type": "execute_result",
          "data": {
            "text/plain": [
              "['Rooms',\n",
              " 'Distance',\n",
              " 'Postcode',\n",
              " 'Bedroom2',\n",
              " 'Bathroom',\n",
              " 'Landsize',\n",
              " 'Lattitude',\n",
              " 'Longtitude',\n",
              " 'Propertycount',\n",
              " 'Type',\n",
              " 'Method',\n",
              " 'Regionname']"
            ]
          },
          "metadata": {},
          "execution_count": 43
        }
      ]
    },
    {
      "cell_type": "code",
      "source": [
        "X_train = X_train_full[final_cols].copy()\n",
        "X_test  = X_test_full[final_cols].copy()"
      ],
      "metadata": {
        "id": "0-sM0kNRUgga"
      },
      "execution_count": 44,
      "outputs": []
    },
    {
      "cell_type": "code",
      "source": [
        "#Get a list of all categorical variables\n",
        "s = (X_train.dtypes == 'object')\n",
        "object_cols = list(s[s].index)\n",
        "\n",
        "print(\"Categorical variables:\")\n",
        "print(object_cols)\n",
        "print(type(object_cols))"
      ],
      "metadata": {
        "colab": {
          "base_uri": "https://localhost:8080/"
        },
        "id": "fZqG-ZLQVDZa",
        "outputId": "a671d4d2-7662-4cbe-e761-20904e883591"
      },
      "execution_count": 45,
      "outputs": [
        {
          "output_type": "stream",
          "name": "stdout",
          "text": [
            "Categorical variables:\n",
            "['Type', 'Method', 'Regionname']\n",
            "<class 'list'>\n"
          ]
        }
      ]
    },
    {
      "cell_type": "code",
      "source": [
        "#Define funciton to measure quality of each approach/ similar to what we did in the intermediate ML topic\n",
        "def get_mae(X_train, X_test, y_train, y_test):\n",
        "  model = RandomForestRegressor(n_estimators = 100, random_state = 0)\n",
        "  model.fit(X_train, y_train)\n",
        "  pred = model.predict(X_test)\n",
        "  mae  = mean_absolute_error(y_test, pred)\n",
        "  return mae"
      ],
      "metadata": {
        "id": "5nD8Xii6okA9"
      },
      "execution_count": 46,
      "outputs": []
    },
    {
      "cell_type": "markdown",
      "source": [
        "**Approach 1: Dropping categorical values**"
      ],
      "metadata": {
        "id": "zTe0F1RXxl7C"
      }
    },
    {
      "cell_type": "code",
      "source": [
        "drop_X_train = X_train.select_dtypes(exclude = ['object'])\n",
        "drop_X_test  = X_test.select_dtypes(exclude = ['object'])\n",
        "\n",
        "print('mean absolute error for dropping categorical values approach is: %f' %get_mae(\n",
        "    drop_X_train, drop_X_test, y_train, y_test\n",
        "))"
      ],
      "metadata": {
        "colab": {
          "base_uri": "https://localhost:8080/"
        },
        "id": "hs2jEK-VxpZC",
        "outputId": "26401149-2593-44e9-ed35-73957d2b260f"
      },
      "execution_count": 47,
      "outputs": [
        {
          "output_type": "stream",
          "name": "stdout",
          "text": [
            "mean absolute error for dropping categorical values approach is: 198216.692813\n"
          ]
        }
      ]
    },
    {
      "cell_type": "markdown",
      "source": [
        "**Approach 2: Ordinal Encoding**"
      ],
      "metadata": {
        "id": "btSHxTGtyxB3"
      }
    },
    {
      "cell_type": "code",
      "source": [
        "label_X_train = X_train.copy()\n",
        "label_X_test  = X_test.copy()\n",
        "\n",
        "#Apply original encoder to each column with categorical values\n",
        "ordinal_encoder = OrdinalEncoder()\n",
        "label_X_train[object_cols] = ordinal_encoder.fit_transform(X_train[object_cols])\n",
        "label_X_test[object_cols]  = ordinal_encoder.transform(X_test[object_cols])\n",
        "\n",
        "#get the error score\n",
        "print('mean absolute error for Ordinal encoding approach is: %f' %get_mae(\n",
        "    label_X_train, label_X_test, y_train, y_test\n",
        "))"
      ],
      "metadata": {
        "colab": {
          "base_uri": "https://localhost:8080/"
        },
        "id": "3aVJkw-2y07l",
        "outputId": "9179f849-1c41-4aff-9ffc-17e0ed5a0038"
      },
      "execution_count": 48,
      "outputs": [
        {
          "output_type": "stream",
          "name": "stdout",
          "text": [
            "mean absolute error for Ordinal encoding approach is: 184204.489430\n"
          ]
        }
      ]
    },
    {
      "cell_type": "code",
      "source": [
        "label_X_train[object_cols]"
      ],
      "metadata": {
        "colab": {
          "base_uri": "https://localhost:8080/",
          "height": 423
        },
        "id": "sslU_A8Q5uiK",
        "outputId": "5293e137-5b32-4755-824b-6ab44d3e023c"
      },
      "execution_count": 49,
      "outputs": [
        {
          "output_type": "execute_result",
          "data": {
            "text/html": [
              "\n",
              "  <div id=\"df-03398cbb-37aa-4de8-9251-4db134d5f578\">\n",
              "    <div class=\"colab-df-container\">\n",
              "      <div>\n",
              "<style scoped>\n",
              "    .dataframe tbody tr th:only-of-type {\n",
              "        vertical-align: middle;\n",
              "    }\n",
              "\n",
              "    .dataframe tbody tr th {\n",
              "        vertical-align: top;\n",
              "    }\n",
              "\n",
              "    .dataframe thead th {\n",
              "        text-align: right;\n",
              "    }\n",
              "</style>\n",
              "<table border=\"1\" class=\"dataframe\">\n",
              "  <thead>\n",
              "    <tr style=\"text-align: right;\">\n",
              "      <th></th>\n",
              "      <th>Type</th>\n",
              "      <th>Method</th>\n",
              "      <th>Regionname</th>\n",
              "    </tr>\n",
              "  </thead>\n",
              "  <tbody>\n",
              "    <tr>\n",
              "      <th>3056</th>\n",
              "      <td>0.0</td>\n",
              "      <td>3.0</td>\n",
              "      <td>5.0</td>\n",
              "    </tr>\n",
              "    <tr>\n",
              "      <th>6041</th>\n",
              "      <td>0.0</td>\n",
              "      <td>0.0</td>\n",
              "      <td>6.0</td>\n",
              "    </tr>\n",
              "    <tr>\n",
              "      <th>5077</th>\n",
              "      <td>0.0</td>\n",
              "      <td>1.0</td>\n",
              "      <td>2.0</td>\n",
              "    </tr>\n",
              "    <tr>\n",
              "      <th>4366</th>\n",
              "      <td>0.0</td>\n",
              "      <td>1.0</td>\n",
              "      <td>2.0</td>\n",
              "    </tr>\n",
              "    <tr>\n",
              "      <th>1640</th>\n",
              "      <td>2.0</td>\n",
              "      <td>1.0</td>\n",
              "      <td>5.0</td>\n",
              "    </tr>\n",
              "    <tr>\n",
              "      <th>...</th>\n",
              "      <td>...</td>\n",
              "      <td>...</td>\n",
              "      <td>...</td>\n",
              "    </tr>\n",
              "    <tr>\n",
              "      <th>905</th>\n",
              "      <td>0.0</td>\n",
              "      <td>1.0</td>\n",
              "      <td>5.0</td>\n",
              "    </tr>\n",
              "    <tr>\n",
              "      <th>5192</th>\n",
              "      <td>0.0</td>\n",
              "      <td>1.0</td>\n",
              "      <td>2.0</td>\n",
              "    </tr>\n",
              "    <tr>\n",
              "      <th>12172</th>\n",
              "      <td>0.0</td>\n",
              "      <td>1.0</td>\n",
              "      <td>6.0</td>\n",
              "    </tr>\n",
              "    <tr>\n",
              "      <th>235</th>\n",
              "      <td>0.0</td>\n",
              "      <td>0.0</td>\n",
              "      <td>5.0</td>\n",
              "    </tr>\n",
              "    <tr>\n",
              "      <th>13349</th>\n",
              "      <td>0.0</td>\n",
              "      <td>0.0</td>\n",
              "      <td>5.0</td>\n",
              "    </tr>\n",
              "  </tbody>\n",
              "</table>\n",
              "<p>2716 rows × 3 columns</p>\n",
              "</div>\n",
              "      <button class=\"colab-df-convert\" onclick=\"convertToInteractive('df-03398cbb-37aa-4de8-9251-4db134d5f578')\"\n",
              "              title=\"Convert this dataframe to an interactive table.\"\n",
              "              style=\"display:none;\">\n",
              "        \n",
              "  <svg xmlns=\"http://www.w3.org/2000/svg\" height=\"24px\"viewBox=\"0 0 24 24\"\n",
              "       width=\"24px\">\n",
              "    <path d=\"M0 0h24v24H0V0z\" fill=\"none\"/>\n",
              "    <path d=\"M18.56 5.44l.94 2.06.94-2.06 2.06-.94-2.06-.94-.94-2.06-.94 2.06-2.06.94zm-11 1L8.5 8.5l.94-2.06 2.06-.94-2.06-.94L8.5 2.5l-.94 2.06-2.06.94zm10 10l.94 2.06.94-2.06 2.06-.94-2.06-.94-.94-2.06-.94 2.06-2.06.94z\"/><path d=\"M17.41 7.96l-1.37-1.37c-.4-.4-.92-.59-1.43-.59-.52 0-1.04.2-1.43.59L10.3 9.45l-7.72 7.72c-.78.78-.78 2.05 0 2.83L4 21.41c.39.39.9.59 1.41.59.51 0 1.02-.2 1.41-.59l7.78-7.78 2.81-2.81c.8-.78.8-2.07 0-2.86zM5.41 20L4 18.59l7.72-7.72 1.47 1.35L5.41 20z\"/>\n",
              "  </svg>\n",
              "      </button>\n",
              "      \n",
              "  <style>\n",
              "    .colab-df-container {\n",
              "      display:flex;\n",
              "      flex-wrap:wrap;\n",
              "      gap: 12px;\n",
              "    }\n",
              "\n",
              "    .colab-df-convert {\n",
              "      background-color: #E8F0FE;\n",
              "      border: none;\n",
              "      border-radius: 50%;\n",
              "      cursor: pointer;\n",
              "      display: none;\n",
              "      fill: #1967D2;\n",
              "      height: 32px;\n",
              "      padding: 0 0 0 0;\n",
              "      width: 32px;\n",
              "    }\n",
              "\n",
              "    .colab-df-convert:hover {\n",
              "      background-color: #E2EBFA;\n",
              "      box-shadow: 0px 1px 2px rgba(60, 64, 67, 0.3), 0px 1px 3px 1px rgba(60, 64, 67, 0.15);\n",
              "      fill: #174EA6;\n",
              "    }\n",
              "\n",
              "    [theme=dark] .colab-df-convert {\n",
              "      background-color: #3B4455;\n",
              "      fill: #D2E3FC;\n",
              "    }\n",
              "\n",
              "    [theme=dark] .colab-df-convert:hover {\n",
              "      background-color: #434B5C;\n",
              "      box-shadow: 0px 1px 3px 1px rgba(0, 0, 0, 0.15);\n",
              "      filter: drop-shadow(0px 1px 2px rgba(0, 0, 0, 0.3));\n",
              "      fill: #FFFFFF;\n",
              "    }\n",
              "  </style>\n",
              "\n",
              "      <script>\n",
              "        const buttonEl =\n",
              "          document.querySelector('#df-03398cbb-37aa-4de8-9251-4db134d5f578 button.colab-df-convert');\n",
              "        buttonEl.style.display =\n",
              "          google.colab.kernel.accessAllowed ? 'block' : 'none';\n",
              "\n",
              "        async function convertToInteractive(key) {\n",
              "          const element = document.querySelector('#df-03398cbb-37aa-4de8-9251-4db134d5f578');\n",
              "          const dataTable =\n",
              "            await google.colab.kernel.invokeFunction('convertToInteractive',\n",
              "                                                     [key], {});\n",
              "          if (!dataTable) return;\n",
              "\n",
              "          const docLinkHtml = 'Like what you see? Visit the ' +\n",
              "            '<a target=\"_blank\" href=https://colab.research.google.com/notebooks/data_table.ipynb>data table notebook</a>'\n",
              "            + ' to learn more about interactive tables.';\n",
              "          element.innerHTML = '';\n",
              "          dataTable['output_type'] = 'display_data';\n",
              "          await google.colab.output.renderOutput(dataTable, element);\n",
              "          const docLink = document.createElement('div');\n",
              "          docLink.innerHTML = docLinkHtml;\n",
              "          element.appendChild(docLink);\n",
              "        }\n",
              "      </script>\n",
              "    </div>\n",
              "  </div>\n",
              "  "
            ],
            "text/plain": [
              "       Type  Method  Regionname\n",
              "3056    0.0     3.0         5.0\n",
              "6041    0.0     0.0         6.0\n",
              "5077    0.0     1.0         2.0\n",
              "4366    0.0     1.0         2.0\n",
              "1640    2.0     1.0         5.0\n",
              "...     ...     ...         ...\n",
              "905     0.0     1.0         5.0\n",
              "5192    0.0     1.0         2.0\n",
              "12172   0.0     1.0         6.0\n",
              "235     0.0     0.0         5.0\n",
              "13349   0.0     0.0         5.0\n",
              "\n",
              "[2716 rows x 3 columns]"
            ]
          },
          "metadata": {},
          "execution_count": 49
        }
      ]
    },
    {
      "cell_type": "markdown",
      "source": [
        "**Approach 3: The best one 'Ordinal Hot Encoding'**"
      ],
      "metadata": {
        "id": "etNhEnAg0ErW"
      }
    },
    {
      "cell_type": "code",
      "source": [
        "#Setting up handle_unknown = 'ignore' to avoid errors when the test data contatins classes that are not in the training data\n",
        "#setting sparse = False ensure that the encoded columns are returned as a numpy array (instead of sparse matrix)\n",
        "\n",
        "OHEncoder = OneHotEncoder(handle_unknown = 'ignore', sparse = False)\n",
        "OH_cols_train = pd.DataFrame(OHEncoder.fit_transform(X_train))\n",
        "OH_cols_test  = pd.DataFrame(OHEncoder.transform(X_test))\n",
        "\n",
        "# One-hot encoding removed index; put it back\n",
        "OH_cols_train.index = X_train.index\n",
        "OH_cols_test.index  = X_test.index\n",
        "\n",
        "num_X_train = X_train.drop(object_cols, axis=1)\n",
        "num_X_test  = X_test.drop(object_cols, axis=1)\n",
        "\n",
        "# Add one-hot encoded columns to numerical features\n",
        "OH_X_train = pd.concat([num_X_train, OH_cols_train], axis=1)\n",
        "OH_X_test  = pd.concat([num_X_test, OH_cols_test], axis=1)\n",
        "\n",
        "print(\"MAE from Approach 3 (One-Hot Encoding):\") \n",
        "print(get_mae(OH_X_train, OH_X_test, y_train, y_test))"
      ],
      "metadata": {
        "colab": {
          "base_uri": "https://localhost:8080/"
        },
        "id": "oQZG_G3B0JG4",
        "outputId": "61f0b3eb-24b5-4731-e63a-a8a7a1eced8c"
      },
      "execution_count": 50,
      "outputs": [
        {
          "output_type": "stream",
          "name": "stdout",
          "text": [
            "MAE from Approach 3 (One-Hot Encoding):\n"
          ]
        },
        {
          "output_type": "stream",
          "name": "stderr",
          "text": [
            "/usr/local/lib/python3.7/dist-packages/sklearn/utils/validation.py:1692: FutureWarning: Feature names only support names that are all strings. Got feature names with dtypes: ['int', 'str']. An error will be raised in 1.2.\n",
            "  FutureWarning,\n",
            "/usr/local/lib/python3.7/dist-packages/sklearn/utils/validation.py:1692: FutureWarning: Feature names only support names that are all strings. Got feature names with dtypes: ['int', 'str']. An error will be raised in 1.2.\n",
            "  FutureWarning,\n"
          ]
        },
        {
          "output_type": "stream",
          "name": "stdout",
          "text": [
            "182586.72852448456\n"
          ]
        }
      ]
    },
    {
      "cell_type": "code",
      "source": [
        ""
      ],
      "metadata": {
        "id": "hmT4VD2HKd9r"
      },
      "execution_count": null,
      "outputs": []
    }
  ]
}