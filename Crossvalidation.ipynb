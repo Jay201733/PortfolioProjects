{
  "nbformat": 4,
  "nbformat_minor": 0,
  "metadata": {
    "colab": {
      "name": "Crossvalidation.ipynb",
      "provenance": []
    },
    "kernelspec": {
      "name": "python3",
      "display_name": "Python 3"
    },
    "language_info": {
      "name": "python"
    }
  },
  "cells": [
    {
      "cell_type": "markdown",
      "source": [
        "The benefit of using cross validation is that you have more choices in determining the quality of the model by using different sets of training and validation data. This way our model's prediction is more of a result from mini models than an individual big model. Its bit slower if time is the concern otherwise its a good approach to handle the model development"
      ],
      "metadata": {
        "id": "gjaEfxoYuqpS"
      }
    },
    {
      "cell_type": "markdown",
      "source": [
        "Data used: https://www.kaggle.com/alexisbcook/cross-validation/data"
      ],
      "metadata": {
        "id": "f_lazI4uudxc"
      }
    },
    {
      "cell_type": "code",
      "execution_count": 1,
      "metadata": {
        "id": "xsGHN8CFmEIp"
      },
      "outputs": [],
      "source": [
        "import pandas as pd\n",
        "from sklearn.ensemble import RandomForestRegressor\n",
        "from sklearn.model_selection import cross_val_score\n",
        "from sklearn.pipeline import Pipeline\n",
        "from sklearn.impute import SimpleImputer"
      ]
    },
    {
      "cell_type": "code",
      "source": [
        "data = pd.read_csv(\"/content/melb_data.csv\")"
      ],
      "metadata": {
        "id": "oVCzjLHE2IqN"
      },
      "execution_count": 2,
      "outputs": []
    },
    {
      "cell_type": "code",
      "source": [
        "# Select subset of predictors\n",
        "cols_to_use = ['Rooms', 'Distance', 'Landsize', 'BuildingArea', 'YearBuilt']\n",
        "X = data[cols_to_use]\n",
        "\n",
        "# Select target\n",
        "y = data.Price"
      ],
      "metadata": {
        "id": "dpKf1Pia2Nhi"
      },
      "execution_count": 3,
      "outputs": []
    },
    {
      "cell_type": "code",
      "source": [
        "#We dont have to use train_test_split function this time as cross validation will create different sets for it\n",
        "my_pipeline = Pipeline(steps = [('imputer', SimpleImputer(strategy = 'mean')),\n",
        "                                ('model', RandomForestRegressor(n_estimators=50, random_state= 0))\n",
        "                                ])"
      ],
      "metadata": {
        "id": "rwW76qwo4otf"
      },
      "execution_count": 5,
      "outputs": []
    },
    {
      "cell_type": "code",
      "source": [
        ""
      ],
      "metadata": {
        "id": "YEoGTUiRtFQQ"
      },
      "execution_count": null,
      "outputs": []
    },
    {
      "cell_type": "code",
      "source": [
        "#Using cross validation for the finding the performance of the developed model\n",
        "scores = -1*cross_val_score(my_pipeline, X, y, cv = 5, scoring = 'neg_mean_absolute_error')\n"
      ],
      "metadata": {
        "id": "d3E3l3WSBvgR"
      },
      "execution_count": 6,
      "outputs": []
    },
    {
      "cell_type": "code",
      "source": [
        "scores"
      ],
      "metadata": {
        "colab": {
          "base_uri": "https://localhost:8080/"
        },
        "id": "juA26RmwCLmX",
        "outputId": "d28dd6a2-63de-4ec3-ac9e-8d6e42309d34"
      },
      "execution_count": 7,
      "outputs": [
        {
          "output_type": "execute_result",
          "data": {
            "text/plain": [
              "array([301628.7893587 , 303164.4782723 , 287298.331666  , 236061.84754543,\n",
              "       260383.45111427])"
            ]
          },
          "metadata": {},
          "execution_count": 7
        }
      ]
    },
    {
      "cell_type": "code",
      "source": [
        "scores.mean()"
      ],
      "metadata": {
        "colab": {
          "base_uri": "https://localhost:8080/"
        },
        "id": "R7XTKiOMuVys",
        "outputId": "a0670cbe-fc26-46ba-f255-3a004cb53247"
      },
      "execution_count": 9,
      "outputs": [
        {
          "output_type": "execute_result",
          "data": {
            "text/plain": [
              "277707.3795913405"
            ]
          },
          "metadata": {},
          "execution_count": 9
        }
      ]
    },
    {
      "cell_type": "code",
      "source": [
        ""
      ],
      "metadata": {
        "id": "drJEptVuuZTZ"
      },
      "execution_count": null,
      "outputs": []
    }
  ]
}