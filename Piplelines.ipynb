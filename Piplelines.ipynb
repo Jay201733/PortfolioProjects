{
  "nbformat": 4,
  "nbformat_minor": 0,
  "metadata": {
    "colab": {
      "name": "Piplelines.ipynb",
      "provenance": []
    },
    "kernelspec": {
      "name": "python3",
      "display_name": "Python 3"
    },
    "language_info": {
      "name": "python"
    }
  },
  "cells": [
    {
      "cell_type": "code",
      "execution_count": null,
      "metadata": {
        "id": "6CeKY9PxIoMM"
      },
      "outputs": [],
      "source": [
        "#The benefit of using pipeline is the fact that we don't have to spend alot of time in preprocessing the data (depending on the type of \n",
        "#data we are dealing with. We can simply merge different preprocessors with one line of code)\n",
        "\n",
        "import pandas as pd\n",
        "from sklearn.ensemble import RandomForestRegressor\n",
        "from sklearn.preprocessing import OneHotEncoder\n",
        "from sklearn.impute import SimpleImputer\n",
        "from sklearn.pipeline import Pipeline\n",
        "from sklearn.compose import ColumnTransformer\n",
        "from sklearn.model_selection import train_test_split"
      ]
    },
    {
      "cell_type": "code",
      "source": [
        "#data used \n",
        "data = pd.read_csv(\"/content/melb_data.csv\")"
      ],
      "metadata": {
        "id": "mvBgKz0kJJyN"
      },
      "execution_count": null,
      "outputs": []
    },
    {
      "cell_type": "code",
      "source": [
        "X = data.drop(['Price'], axis = 1)\n",
        "y = data.Price"
      ],
      "metadata": {
        "id": "F4eTNzI0JfYo"
      },
      "execution_count": null,
      "outputs": []
    },
    {
      "cell_type": "code",
      "source": [
        "X_train_full, X_valid_full, y_train_full, y_valid_full = train_test_split(X,y, train_size= 0.8, test_size = 0.2, random_state = 1) "
      ],
      "metadata": {
        "id": "PbnHT8jILWod"
      },
      "execution_count": null,
      "outputs": []
    },
    {
      "cell_type": "code",
      "source": [
        "categorical_cols = [col for col in X_train_full.columns if X_train_full[col].dtype == 'object' and X_train_full[col].nunique() <10]\n",
        "categorical_cols"
      ],
      "metadata": {
        "colab": {
          "base_uri": "https://localhost:8080/"
        },
        "id": "Qs7vF5uMLxQ4",
        "outputId": "e56af906-67df-43e8-ac11-3c50b6e45620"
      },
      "execution_count": null,
      "outputs": [
        {
          "output_type": "execute_result",
          "data": {
            "text/plain": [
              "['Type', 'Method', 'Regionname']"
            ]
          },
          "metadata": {},
          "execution_count": 8
        }
      ]
    },
    {
      "cell_type": "code",
      "source": [
        "numerical_cols = [col for col in X_train_full.columns if X_train_full[col].dtype in ['int64', 'float64']]\n",
        "numerical_cols"
      ],
      "metadata": {
        "colab": {
          "base_uri": "https://localhost:8080/"
        },
        "id": "nQVLl-65M2Dw",
        "outputId": "c7224245-6b6c-4c6d-a078-788866d9f799"
      },
      "execution_count": null,
      "outputs": [
        {
          "output_type": "execute_result",
          "data": {
            "text/plain": [
              "['Rooms',\n",
              " 'Distance',\n",
              " 'Postcode',\n",
              " 'Bedroom2',\n",
              " 'Bathroom',\n",
              " 'Car',\n",
              " 'Landsize',\n",
              " 'BuildingArea',\n",
              " 'YearBuilt',\n",
              " 'Lattitude',\n",
              " 'Longtitude',\n",
              " 'Propertycount']"
            ]
          },
          "metadata": {},
          "execution_count": 9
        }
      ]
    },
    {
      "cell_type": "code",
      "source": [
        "my_cols = numerical_cols + categorical_cols\n",
        "X_train = X_train_full[my_cols].copy()\n",
        "X_valid = X_valid_full[my_cols].copy()"
      ],
      "metadata": {
        "id": "MXqINMGQNWKr"
      },
      "execution_count": null,
      "outputs": []
    },
    {
      "cell_type": "code",
      "source": [
        "#Preprocess numerical data\n",
        "numerical_transformer = SimpleImputer(strategy = 'mean')\n",
        "\n",
        "#Preprocess categorical data\n",
        "Categorical_transformer = Pipeline(steps = [('Imputer', SimpleImputer(strategy='most_frequent')),\n",
        "                                            ('OHE', OneHotEncoder(handle_unknown= 'ignore', sparse= False))])\n",
        "\n",
        "#Bundling up the two transformers using ColumnTransfomer function\n",
        "preprocessor = ColumnTransformer(transformers= [('num_trans', numerical_transformer, numerical_cols),\n",
        "                                                ('cat_trans', Categorical_transformer, categorical_cols)])"
      ],
      "metadata": {
        "id": "Gw9aWfCfN0ZL"
      },
      "execution_count": null,
      "outputs": []
    },
    {
      "cell_type": "code",
      "source": [
        "#Defining the model as usual\n",
        "model = RandomForestRegressor(n_estimators=100, random_state= 0)"
      ],
      "metadata": {
        "id": "8I_8H7pQPLLL"
      },
      "execution_count": null,
      "outputs": []
    },
    {
      "cell_type": "code",
      "source": [
        "#creating final pipeline which will bundle up the model and the preprocessor\n",
        "mypipeline = Pipeline(steps = [('preprocessor', preprocessor), ('model', model)])"
      ],
      "metadata": {
        "id": "U05MXmOSPY9C"
      },
      "execution_count": null,
      "outputs": []
    },
    {
      "cell_type": "code",
      "source": [
        "mypipeline.fit(X_train, y_train_full)\n",
        "pred = mypipeline.predict(X_valid)\n"
      ],
      "metadata": {
        "id": "my65Xz5oVev8"
      },
      "execution_count": null,
      "outputs": []
    },
    {
      "cell_type": "code",
      "source": [
        "from sklearn.metrics import mean_absolute_error"
      ],
      "metadata": {
        "id": "7ovJEdBoVrAa"
      },
      "execution_count": null,
      "outputs": []
    },
    {
      "cell_type": "code",
      "source": [
        "error = mean_absolute_error(y_valid_full, pred)\n",
        "error"
      ],
      "metadata": {
        "colab": {
          "base_uri": "https://localhost:8080/"
        },
        "id": "F4OzcycWWEUe",
        "outputId": "3f0e5ce1-fdaa-4293-f297-b487a6acaf48"
      },
      "execution_count": null,
      "outputs": [
        {
          "output_type": "execute_result",
          "data": {
            "text/plain": [
              "156298.1488635248"
            ]
          },
          "metadata": {},
          "execution_count": 21
        }
      ]
    }
  ]
}